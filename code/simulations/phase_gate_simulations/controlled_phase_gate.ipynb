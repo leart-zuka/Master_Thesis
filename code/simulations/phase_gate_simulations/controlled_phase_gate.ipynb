{
 "cells": [
  {
   "cell_type": "code",
   "execution_count": 121,
   "id": "324d4223-047a-4f0f-969e-afb802a1e122",
   "metadata": {},
   "outputs": [],
   "source": [
    "import numpy as np\n",
    "import matplotlib.pyplot as plt\n",
    "from qutip import *\n",
    "from IPython.display import Image"
   ]
  },
  {
   "cell_type": "code",
   "execution_count": 122,
   "id": "5ee5a3bd-b453-4211-81dd-c22ca8e44d24",
   "metadata": {},
   "outputs": [],
   "source": [
    "# Define constants\n",
    "g = 1.0           # Atom-cavity coupling strength\n",
    "kappa = 1.0       # Cavity decay rate\n",
    "gamma = 0.5       # Atomic spontaneous emission rate\n",
    "T = 10            # Pulse duration\n",
    "n_photon = 2      # Photon number states: 0 or 1\n",
    "n_atom = 3        # Atom: |0>, |1>, |e>\n",
    "\n",
    "# Basis states\n",
    "# Atom: |0>, |1>, |e> → index 0, 1, 2\n",
    "# Photon: |h>, |v> → index 0, 1"
   ]
  },
  {
   "cell_type": "code",
   "execution_count": 158,
   "id": "e7a82caa-2900-44d1-9ef1-cf6348b78f17",
   "metadata": {},
   "outputs": [],
   "source": [
    "def input_shape(x:float) -> float:\n",
    "    return np.exp(-(x-T/2)**2/(T/5)**2)"
   ]
  },
  {
   "cell_type": "code",
   "execution_count": 159,
   "id": "ccf4cf56-55a5-4418-bbe7-0a0605cb6166",
   "metadata": {},
   "outputs": [],
   "source": [
    "# Time list\n",
    "tlist = np.linspace(0, T, 500)"
   ]
  },
  {
   "cell_type": "code",
   "execution_count": 160,
   "id": "4006300b-8dd6-4fd1-9873-411864104060",
   "metadata": {},
   "outputs": [],
   "source": [
    "# Identity operators\n",
    "I_atom = qeye(n_atom)\n",
    "I_photon = qeye(n_photon)"
   ]
  },
  {
   "cell_type": "code",
   "execution_count": 161,
   "id": "27e1b4a8-e847-4c9f-b917-70e37f3ac27f",
   "metadata": {},
   "outputs": [
    {
     "data": {
      "text/latex": [
       "Quantum object: dims=[[2, 3], [2, 3]], shape=(6, 6), type='oper', dtype=Dia, isherm=False$$\\left(\\begin{array}{cc}0 & 0 & 0 & 1 & 0 & 0\\\\0 & 0 & 0 & 0 & 1 & 0\\\\0 & 0 & 0 & 0 & 0 & 1\\\\0 & 0 & 0 & 0 & 0 & 0\\\\0 & 0 & 0 & 0 & 0 & 0\\\\0 & 0 & 0 & 0 & 0 & 0\\end{array}\\right)$$"
      ],
      "text/plain": [
       "Quantum object: dims=[[2, 3], [2, 3]], shape=(6, 6), type='oper', dtype=Dia, isherm=False\n",
       "Qobj data =\n",
       "[[0. 0. 0. 1. 0. 0.]\n",
       " [0. 0. 0. 0. 1. 0.]\n",
       " [0. 0. 0. 0. 0. 1.]\n",
       " [0. 0. 0. 0. 0. 0.]\n",
       " [0. 0. 0. 0. 0. 0.]\n",
       " [0. 0. 0. 0. 0. 0.]]"
      ]
     },
     "execution_count": 161,
     "metadata": {},
     "output_type": "execute_result"
    }
   ],
   "source": [
    "# Light operators\n",
    "a_h = tensor(destroy(n_photon),I_atom)\n",
    "a_h_dag = a_h.dag()\n",
    "a_h"
   ]
  },
  {
   "cell_type": "code",
   "execution_count": 162,
   "id": "fe243ead-f54e-46b3-aa36-748afe80a5e4",
   "metadata": {},
   "outputs": [],
   "source": [
    "# Atom Operators\n",
    "excitation = tensor(I_photon,basis(n_atom,2) * basis(n_atom,1).dag())\n",
    "relaxation = excitation.dag()"
   ]
  },
  {
   "cell_type": "code",
   "execution_count": 163,
   "id": "4e00c2d0-79aa-44ea-aabe-76c021fd6ec7",
   "metadata": {},
   "outputs": [
    {
     "data": {
      "image/png": "[encoded data removed]",
      "text/plain": [
       "<IPython.core.display.Image object>"
      ]
     },
     "execution_count": 163,
     "metadata": {},
     "output_type": "execute_result"
    }
   ],
   "source": [
    "Image(\"pictures/cpf_gate_hamiltonian.png\")"
   ]
  },
  {
   "cell_type": "code",
   "execution_count": 164,
   "id": "0f9caea5-562c-4eb3-b8f7-b34270d2bd9f",
   "metadata": {},
   "outputs": [],
   "source": [
    "H_jc = g*(excitation*a_h + relaxation*a_h_dag)"
   ]
  },
  {
   "cell_type": "code",
   "execution_count": 165,
   "id": "c1ed2ecd-887c-4101-bed6-42e6768b62ca",
   "metadata": {},
   "outputs": [
    {
     "data": {
      "image/png": "[encoded data removed]",
      "text/plain": [
       "<IPython.core.display.Image object>"
      ]
     },
     "execution_count": 165,
     "metadata": {},
     "output_type": "execute_result"
    }
   ],
   "source": [
    "Image(\"pictures/spont_emission_noise.png\")"
   ]
  },
  {
   "cell_type": "code",
   "execution_count": 166,
   "id": "1400662a-9205-4870-91d8-66b43d157aa1",
   "metadata": {},
   "outputs": [
    {
     "data": {
      "text/latex": [
       "Quantum object: dims=[[2, 3], [2, 3]], shape=(6, 6), type='oper', dtype=Dense, isherm=False$$\\left(\\begin{array}{cc}0 & 0 & 0 & 0 & 0 & 0\\\\0 & 0.250j & 0 & 0 & 0 & 0\\\\0 & 0 & -0.250j & 0 & 0 & 0\\\\0 & 0 & 0 & 0 & 0 & 0\\\\0 & 0 & 0 & 0 & 0.250j & 0\\\\0 & 0 & 0 & 0 & 0 & -0.250j\\end{array}\\right)$$"
      ],
      "text/plain": [
       "Quantum object: dims=[[2, 3], [2, 3]], shape=(6, 6), type='oper', dtype=Dense, isherm=False\n",
       "Qobj data =\n",
       "[[0.+0.j   0.+0.j   0.+0.j   0.+0.j   0.+0.j   0.+0.j  ]\n",
       " [0.+0.j   0.+0.25j 0.+0.j   0.+0.j   0.+0.j   0.+0.j  ]\n",
       " [0.+0.j   0.+0.j   0.-0.25j 0.+0.j   0.+0.j   0.+0.j  ]\n",
       " [0.+0.j   0.+0.j   0.+0.j   0.+0.j   0.+0.j   0.+0.j  ]\n",
       " [0.+0.j   0.+0.j   0.+0.j   0.+0.j   0.+0.25j 0.+0.j  ]\n",
       " [0.+0.j   0.+0.j   0.+0.j   0.+0.j   0.+0.j   0.-0.25j]]"
      ]
     },
     "execution_count": 166,
     "metadata": {},
     "output_type": "execute_result"
    }
   ],
   "source": [
    "# Collapse operators\n",
    "'''c_ops = [\n",
    "    np.sqrt(kappa) * tensor(I_atom, a),             # Cavity decay\n",
    "    np.sqrt(gamma) * tensor(basis(n_atom, 0) * basis(n_atom, 2).dag(), I_cavity),  # |e> → |0>\n",
    "    np.sqrt(gamma) * tensor(basis(n_atom, 1) * basis(n_atom, 2).dag(), I_cavity),  # |e> → |1>\n",
    "]'''\n",
    "c_ops = [\n",
    "    (gamma/2j) * tensor(I_photon,basis(n_atom,2)*basis(n_atom,2).dag() - basis(n_atom,1)*basis(n_atom,1).dag())\n",
    "]\n",
    "c_ops[0]\n"
   ]
  },
  {
   "cell_type": "code",
   "execution_count": 167,
   "id": "01b056a6-7b92-4bde-88b4-172b21f8476a",
   "metadata": {},
   "outputs": [],
   "source": [
    "# Atom initial state: (|0> + |1>) / sqrt(2)\n",
    "psi_atom = (basis(n_atom, 0) + basis(n_atom, 1)).unit()\n",
    "\n",
    "# Cavity initial state: 1 photon (|1>)\n",
    "psi_cavity = basis(n_photon, 1)\n",
    "\n",
    "# Full initial state\n",
    "psi0 = tensor(psi_cavity, psi_atom)"
   ]
  },
  {
   "cell_type": "code",
   "execution_count": 171,
   "id": "f23fcbd0-d9b0-43f3-8430-2e9ee4f88934",
   "metadata": {},
   "outputs": [],
   "source": [
    "pulse_scale = 10  # small enough so that max photons in cavity ≈ 1\n",
    "H_drive = [pulse_scale * a_h_dag, input_shape]"
   ]
  },
  {
   "cell_type": "code",
   "execution_count": 174,
   "id": "36036f8a-294a-4a13-97b5-65eb94f571ae",
   "metadata": {},
   "outputs": [],
   "source": [
    "# Evolve\n",
    "\n",
    "H = [H_jc, H_drive]\n",
    "\n",
    "result = mesolve(H, psi0, tlist,[],[a_h_dag*a_h, relaxation*excitation])"
   ]
  },
  {
   "cell_type": "code",
   "execution_count": 175,
   "id": "03dc5cba-b2e6-4a5f-82bd-8c78cc695264",
   "metadata": {},
   "outputs": [
    {
     "data": {
      "image/png": "[encoded data removed]",
      "text/plain": [
       "<Figure size 640x480 with 1 Axes>"
      ]
     },
     "metadata": {},
     "output_type": "display_data"
    }
   ],
   "source": [
    "plt.plot(tlist, result.expect[0], label=\"Light\")\n",
    "plt.legend();"
   ]
  },
  {
   "cell_type": "code",
   "execution_count": 180,
   "id": "34e4d72e-abce-4c26-aeeb-e7bdf1597b64",
   "metadata": {},
   "outputs": [
    {
     "ename": "ValueError",
     "evalue": "x and y must have same first dimension, but have shapes (500,) and (0,)",
     "output_type": "error",
     "traceback": [
      "\u001b[31m---------------------------------------------------------------------------\u001b[39m",
      "\u001b[31mValueError\u001b[39m                                Traceback (most recent call last)",
      "\u001b[36mCell\u001b[39m\u001b[36m \u001b[39m\u001b[32mIn[180]\u001b[39m\u001b[32m, line 6\u001b[39m\n\u001b[32m      4\u001b[39m \u001b[38;5;66;03m# Plot photon number as proxy for output pulse shape\u001b[39;00m\n\u001b[32m      5\u001b[39m plt.figure(figsize=(\u001b[32m10\u001b[39m, \u001b[32m4\u001b[39m))\n\u001b[32m----> \u001b[39m\u001b[32m6\u001b[39m \u001b[43mplt\u001b[49m\u001b[43m.\u001b[49m\u001b[43mplot\u001b[49m\u001b[43m(\u001b[49m\u001b[43mtlist\u001b[49m\u001b[43m,\u001b[49m\u001b[43m \u001b[49m\u001b[43mn_photon_0\u001b[49m\u001b[43m,\u001b[49m\u001b[43m \u001b[49m\u001b[43mlabel\u001b[49m\u001b[43m=\u001b[49m\u001b[33;43m\"\u001b[39;49m\u001b[33;43mAtom in |0⟩ (with interaction)\u001b[39;49m\u001b[33;43m\"\u001b[39;49m\u001b[43m)\u001b[49m\n\u001b[32m      7\u001b[39m \u001b[38;5;66;03m#plt.plot(tlist, n_photon_1, label=\"Atom in |1⟩ (no interaction)\", linestyle=\"--\")\u001b[39;00m\n\u001b[32m      8\u001b[39m plt.title(\u001b[33m\"\u001b[39m\u001b[33mSimulated Output Photon Profile\u001b[39m\u001b[33m\"\u001b[39m)\n",
      "\u001b[36mFile \u001b[39m\u001b[32m~/Documents/uni/master/master_thesis/code/.venv/lib/python3.13/site-packages/matplotlib/pyplot.py:3838\u001b[39m, in \u001b[36mplot\u001b[39m\u001b[34m(scalex, scaley, data, *args, **kwargs)\u001b[39m\n\u001b[32m   3830\u001b[39m \u001b[38;5;129m@_copy_docstring_and_deprecators\u001b[39m(Axes.plot)\n\u001b[32m   3831\u001b[39m \u001b[38;5;28;01mdef\u001b[39;00m\u001b[38;5;250m \u001b[39m\u001b[34mplot\u001b[39m(\n\u001b[32m   3832\u001b[39m     *args: \u001b[38;5;28mfloat\u001b[39m | ArrayLike | \u001b[38;5;28mstr\u001b[39m,\n\u001b[32m   (...)\u001b[39m\u001b[32m   3836\u001b[39m     **kwargs,\n\u001b[32m   3837\u001b[39m ) -> \u001b[38;5;28mlist\u001b[39m[Line2D]:\n\u001b[32m-> \u001b[39m\u001b[32m3838\u001b[39m     \u001b[38;5;28;01mreturn\u001b[39;00m \u001b[43mgca\u001b[49m\u001b[43m(\u001b[49m\u001b[43m)\u001b[49m\u001b[43m.\u001b[49m\u001b[43mplot\u001b[49m\u001b[43m(\u001b[49m\n\u001b[32m   3839\u001b[39m \u001b[43m        \u001b[49m\u001b[43m*\u001b[49m\u001b[43margs\u001b[49m\u001b[43m,\u001b[49m\n\u001b[32m   3840\u001b[39m \u001b[43m        \u001b[49m\u001b[43mscalex\u001b[49m\u001b[43m=\u001b[49m\u001b[43mscalex\u001b[49m\u001b[43m,\u001b[49m\n\u001b[32m   3841\u001b[39m \u001b[43m        \u001b[49m\u001b[43mscaley\u001b[49m\u001b[43m=\u001b[49m\u001b[43mscaley\u001b[49m\u001b[43m,\u001b[49m\n\u001b[32m   3842\u001b[39m \u001b[43m        \u001b[49m\u001b[43m*\u001b[49m\u001b[43m*\u001b[49m\u001b[43m(\u001b[49m\u001b[43m{\u001b[49m\u001b[33;43m\"\u001b[39;49m\u001b[33;43mdata\u001b[39;49m\u001b[33;43m\"\u001b[39;49m\u001b[43m:\u001b[49m\u001b[43m \u001b[49m\u001b[43mdata\u001b[49m\u001b[43m}\u001b[49m\u001b[43m \u001b[49m\u001b[38;5;28;43;01mif\u001b[39;49;00m\u001b[43m \u001b[49m\u001b[43mdata\u001b[49m\u001b[43m \u001b[49m\u001b[38;5;129;43;01mis\u001b[39;49;00m\u001b[43m \u001b[49m\u001b[38;5;129;43;01mnot\u001b[39;49;00m\u001b[43m \u001b[49m\u001b[38;5;28;43;01mNone\u001b[39;49;00m\u001b[43m \u001b[49m\u001b[38;5;28;43;01melse\u001b[39;49;00m\u001b[43m \u001b[49m\u001b[43m{\u001b[49m\u001b[43m}\u001b[49m\u001b[43m)\u001b[49m\u001b[43m,\u001b[49m\n\u001b[32m   3843\u001b[39m \u001b[43m        \u001b[49m\u001b[43m*\u001b[49m\u001b[43m*\u001b[49m\u001b[43mkwargs\u001b[49m\u001b[43m,\u001b[49m\n\u001b[32m   3844\u001b[39m \u001b[43m    \u001b[49m\u001b[43m)\u001b[49m\n",
      "\u001b[36mFile \u001b[39m\u001b[32m~/Documents/uni/master/master_thesis/code/.venv/lib/python3.13/site-packages/matplotlib/axes/_axes.py:1777\u001b[39m, in \u001b[36mAxes.plot\u001b[39m\u001b[34m(self, scalex, scaley, data, *args, **kwargs)\u001b[39m\n\u001b[32m   1534\u001b[39m \u001b[38;5;250m\u001b[39m\u001b[33;03m\"\"\"\u001b[39;00m\n\u001b[32m   1535\u001b[39m \u001b[33;03mPlot y versus x as lines and/or markers.\u001b[39;00m\n\u001b[32m   1536\u001b[39m \n\u001b[32m   (...)\u001b[39m\u001b[32m   1774\u001b[39m \u001b[33;03m(``'green'``) or hex strings (``'#008000'``).\u001b[39;00m\n\u001b[32m   1775\u001b[39m \u001b[33;03m\"\"\"\u001b[39;00m\n\u001b[32m   1776\u001b[39m kwargs = cbook.normalize_kwargs(kwargs, mlines.Line2D)\n\u001b[32m-> \u001b[39m\u001b[32m1777\u001b[39m lines = [*\u001b[38;5;28mself\u001b[39m._get_lines(\u001b[38;5;28mself\u001b[39m, *args, data=data, **kwargs)]\n\u001b[32m   1778\u001b[39m \u001b[38;5;28;01mfor\u001b[39;00m line \u001b[38;5;129;01min\u001b[39;00m lines:\n\u001b[32m   1779\u001b[39m     \u001b[38;5;28mself\u001b[39m.add_line(line)\n",
      "\u001b[36mFile \u001b[39m\u001b[32m~/Documents/uni/master/master_thesis/code/.venv/lib/python3.13/site-packages/matplotlib/axes/_base.py:297\u001b[39m, in \u001b[36m_process_plot_var_args.__call__\u001b[39m\u001b[34m(self, axes, data, return_kwargs, *args, **kwargs)\u001b[39m\n\u001b[32m    295\u001b[39m     this += args[\u001b[32m0\u001b[39m],\n\u001b[32m    296\u001b[39m     args = args[\u001b[32m1\u001b[39m:]\n\u001b[32m--> \u001b[39m\u001b[32m297\u001b[39m \u001b[38;5;28;01myield from\u001b[39;00m \u001b[38;5;28;43mself\u001b[39;49m\u001b[43m.\u001b[49m\u001b[43m_plot_args\u001b[49m\u001b[43m(\u001b[49m\n\u001b[32m    298\u001b[39m \u001b[43m    \u001b[49m\u001b[43maxes\u001b[49m\u001b[43m,\u001b[49m\u001b[43m \u001b[49m\u001b[43mthis\u001b[49m\u001b[43m,\u001b[49m\u001b[43m \u001b[49m\u001b[43mkwargs\u001b[49m\u001b[43m,\u001b[49m\u001b[43m \u001b[49m\u001b[43mambiguous_fmt_datakey\u001b[49m\u001b[43m=\u001b[49m\u001b[43mambiguous_fmt_datakey\u001b[49m\u001b[43m,\u001b[49m\n\u001b[32m    299\u001b[39m \u001b[43m    \u001b[49m\u001b[43mreturn_kwargs\u001b[49m\u001b[43m=\u001b[49m\u001b[43mreturn_kwargs\u001b[49m\n\u001b[32m    300\u001b[39m \u001b[43m\u001b[49m\u001b[43m)\u001b[49m\n",
      "\u001b[36mFile \u001b[39m\u001b[32m~/Documents/uni/master/master_thesis/code/.venv/lib/python3.13/site-packages/matplotlib/axes/_base.py:494\u001b[39m, in \u001b[36m_process_plot_var_args._plot_args\u001b[39m\u001b[34m(self, axes, tup, kwargs, return_kwargs, ambiguous_fmt_datakey)\u001b[39m\n\u001b[32m    491\u001b[39m     axes.yaxis.update_units(y)\n\u001b[32m    493\u001b[39m \u001b[38;5;28;01mif\u001b[39;00m x.shape[\u001b[32m0\u001b[39m] != y.shape[\u001b[32m0\u001b[39m]:\n\u001b[32m--> \u001b[39m\u001b[32m494\u001b[39m     \u001b[38;5;28;01mraise\u001b[39;00m \u001b[38;5;167;01mValueError\u001b[39;00m(\u001b[33mf\u001b[39m\u001b[33m\"\u001b[39m\u001b[33mx and y must have same first dimension, but \u001b[39m\u001b[33m\"\u001b[39m\n\u001b[32m    495\u001b[39m                      \u001b[33mf\u001b[39m\u001b[33m\"\u001b[39m\u001b[33mhave shapes \u001b[39m\u001b[38;5;132;01m{\u001b[39;00mx.shape\u001b[38;5;132;01m}\u001b[39;00m\u001b[33m and \u001b[39m\u001b[38;5;132;01m{\u001b[39;00my.shape\u001b[38;5;132;01m}\u001b[39;00m\u001b[33m\"\u001b[39m)\n\u001b[32m    496\u001b[39m \u001b[38;5;28;01mif\u001b[39;00m x.ndim > \u001b[32m2\u001b[39m \u001b[38;5;129;01mor\u001b[39;00m y.ndim > \u001b[32m2\u001b[39m:\n\u001b[32m    497\u001b[39m     \u001b[38;5;28;01mraise\u001b[39;00m \u001b[38;5;167;01mValueError\u001b[39;00m(\u001b[33mf\u001b[39m\u001b[33m\"\u001b[39m\u001b[33mx and y can be no greater than 2D, but have \u001b[39m\u001b[33m\"\u001b[39m\n\u001b[32m    498\u001b[39m                      \u001b[33mf\u001b[39m\u001b[33m\"\u001b[39m\u001b[33mshapes \u001b[39m\u001b[38;5;132;01m{\u001b[39;00mx.shape\u001b[38;5;132;01m}\u001b[39;00m\u001b[33m and \u001b[39m\u001b[38;5;132;01m{\u001b[39;00my.shape\u001b[38;5;132;01m}\u001b[39;00m\u001b[33m\"\u001b[39m)\n",
      "\u001b[31mValueError\u001b[39m: x and y must have same first dimension, but have shapes (500,) and (0,)"
     ]
    },
    {
     "data": {
      "image/png": "[encoded data removed]",
      "text/plain": [
       "<Figure size 1000x400 with 1 Axes>"
      ]
     },
     "metadata": {},
     "output_type": "display_data"
    }
   ],
   "source": [
    "photon_op = tensor(a_h_dag * a_h)\n",
    "n_photon_0 = expect(photon_op, result.states)\n",
    "\n",
    "# Plot photon number as proxy for output pulse shape\n",
    "plt.figure(figsize=(10, 4))\n",
    "plt.plot(tlist, n_photon_0, label=\"Atom in |0⟩ (with interaction)\")\n",
    "#plt.plot(tlist, n_photon_1, label=\"Atom in |1⟩ (no interaction)\", linestyle=\"--\")\n",
    "plt.title(\"Simulated Output Photon Profile\")\n",
    "plt.xlabel(\"Time\")\n",
    "plt.ylabel(\"⟨Photon Number⟩\")\n",
    "plt.legend()\n",
    "plt.grid(True)\n",
    "plt.tight_layout()\n",
    "plt.show()"
   ]
  },
  {
   "cell_type": "code",
   "execution_count": null,
   "id": "527e5437-cf62-4971-a435-12cae2b73118",
   "metadata": {},
   "outputs": [],
   "source": []
  }
 ],
 "metadata": {
  "kernelspec": {
   "display_name": "Python 3 (ipykernel)",
   "language": "python",
   "name": "python3"
  },
  "language_info": {
   "codemirror_mode": {
    "name": "ipython",
    "version": 3
   },
   "file_extension": ".py",
   "mimetype": "text/x-python",
   "name": "python",
   "nbconvert_exporter": "python",
   "pygments_lexer": "ipython3",
   "version": "3.13.3"
  }
 },
 "nbformat": 4,
 "nbformat_minor": 5
}
