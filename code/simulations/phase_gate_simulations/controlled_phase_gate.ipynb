{
 "cells": [
  {
   "cell_type": "code",
   "execution_count": 2,
   "id": "324d4223-047a-4f0f-969e-afb802a1e122",
   "metadata": {},
   "outputs": [],
   "source": [
    "import numpy as np\n",
    "import matplotlib.pyplot as plt\n",
    "from qutip import *"
   ]
  },
  {
   "cell_type": "code",
   "execution_count": 3,
   "id": "5ee5a3bd-b453-4211-81dd-c22ca8e44d24",
   "metadata": {},
   "outputs": [],
   "source": [
    "# Define constants\n",
    "g = 1.0           # Atom-cavity coupling strength\n",
    "kappa = 1.0       # Cavity decay rate\n",
    "gamma = 0.5       # Atomic spontaneous emission rate\n",
    "T = 10            # Pulse duration\n",
    "n_cavity = 2      # Photon number states: 0 or 1\n",
    "n_atom = 3        # Atom: |0>, |1>, |e>\n",
    "\n",
    "# Basis states\n",
    "# Atom: |0>, |1>, |e> → index 0, 1, 2\n",
    "# Cavity: |0>, |1> → index 0, 1\n",
    "\n",
    "# Identity operators\n",
    "I_atom = qeye(n_atom)\n",
    "I_cavity = qeye(n_cavity)\n",
    "\n",
    "# Atom operators\n",
    "proj_1 = basis(n_atom, 1) * basis(n_atom, 1).dag()\n",
    "proj_e = basis(n_atom, 2) * basis(n_atom, 2).dag()\n",
    "sig_1e = basis(n_atom, 1) * basis(n_atom, 2).dag()  # |1⟩⟨e|\n",
    "sig_e1 = sig_1e.dag()                               # |e⟩⟨1|\n",
    "\n",
    "# Cavity operators\n",
    "a = destroy(n_cavity)   # Cavity annihilation\n",
    "adag = a.dag()\n",
    "\n",
    "# Tensor operators (system = atom ⊗ cavity)\n",
    "H_int = g * tensor(sig_e1, a) + g * tensor(sig_1e, adag)  # Jaynes-Cummings\n",
    "\n",
    "# Collapse operators\n",
    "c_ops = [\n",
    "    np.sqrt(kappa) * tensor(I_atom, a),             # Cavity decay\n",
    "    np.sqrt(gamma) * tensor(basis(n_atom, 0) * basis(n_atom, 2).dag(), I_cavity),  # |e> → |0>\n",
    "    np.sqrt(gamma) * tensor(basis(n_atom, 1) * basis(n_atom, 2).dag(), I_cavity),  # |e> → |1>\n",
    "]"
   ]
  },
  {
   "cell_type": "code",
   "execution_count": 4,
   "id": "01b056a6-7b92-4bde-88b4-172b21f8476a",
   "metadata": {},
   "outputs": [],
   "source": [
    "# Atom initial state: (|0> + |1>) / sqrt(2)\n",
    "psi_atom = (basis(n_atom, 0) + basis(n_atom, 1)).unit()\n",
    "\n",
    "# Cavity initial state: 1 photon (|1>)\n",
    "psi_cavity = basis(n_cavity, 1)\n",
    "\n",
    "# Full initial state\n",
    "psi0 = tensor(psi_atom, psi_cavity)"
   ]
  },
  {
   "cell_type": "code",
   "execution_count": 5,
   "id": "36036f8a-294a-4a13-97b5-65eb94f571ae",
   "metadata": {},
   "outputs": [
    {
     "name": "stderr",
     "output_type": "stream",
     "text": [
      "/home/lz/Documents/uni/master/master_thesis/code/.venv/lib/python3.13/site-packages/qutip/solver/solver_base.py:576: FutureWarning: e_ops will be keyword only from qutip 5.3 for all solver\n",
      "  warnings.warn(\n"
     ]
    }
   ],
   "source": [
    "# Time list\n",
    "tlist = np.linspace(0, T, 500)\n",
    "\n",
    "# Evolve\n",
    "result = mesolve(H_int, psi0, tlist, c_ops, [])"
   ]
  },
  {
   "cell_type": "code",
   "execution_count": 6,
   "id": "9becd6f4-7e2b-4d9b-8081-d6dffe800f7a",
   "metadata": {},
   "outputs": [
    {
     "ename": "TypeError",
     "evalue": "'list' object is not callable",
     "output_type": "error",
     "traceback": [
      "\u001b[31m---------------------------------------------------------------------------\u001b[39m",
      "\u001b[31mTypeError\u001b[39m                                 Traceback (most recent call last)",
      "\u001b[36mCell\u001b[39m\u001b[36m \u001b[39m\u001b[32mIn[6]\u001b[39m\u001b[32m, line 1\u001b[39m\n\u001b[32m----> \u001b[39m\u001b[32m1\u001b[39m \u001b[43mresult\u001b[49m\u001b[43m.\u001b[49m\u001b[43mexpect\u001b[49m\u001b[43m(\u001b[49m\u001b[43m)\u001b[49m\n",
      "\u001b[31mTypeError\u001b[39m: 'list' object is not callable"
     ]
    }
   ],
   "source": [
    "result.expect()"
   ]
  },
  {
   "cell_type": "code",
   "execution_count": null,
   "id": "69c60dc8-017c-47a4-8022-74dcd7053521",
   "metadata": {},
   "outputs": [],
   "source": []
  }
 ],
 "metadata": {
  "kernelspec": {
   "display_name": "Python 3 (ipykernel)",
   "language": "python",
   "name": "python3"
  },
  "language_info": {
   "codemirror_mode": {
    "name": "ipython",
    "version": 3
   },
   "file_extension": ".py",
   "mimetype": "text/x-python",
   "name": "python",
   "nbconvert_exporter": "python",
   "pygments_lexer": "ipython3",
   "version": "3.13.3"
  }
 },
 "nbformat": 4,
 "nbformat_minor": 5
}
